{
 "cells": [
  {
   "cell_type": "code",
   "execution_count": 3,
   "id": "d39d3c20",
   "metadata": {},
   "outputs": [],
   "source": [
    "def test(a,b):\n",
    "    return a+b"
   ]
  },
  {
   "cell_type": "code",
   "execution_count": 4,
   "id": "144c5e87",
   "metadata": {},
   "outputs": [
    {
     "data": {
      "text/plain": [
       "7"
      ]
     },
     "execution_count": 4,
     "metadata": {},
     "output_type": "execute_result"
    }
   ],
   "source": [
    "test(3,4)"
   ]
  },
  {
   "cell_type": "code",
   "execution_count": 3,
   "id": "a55b57a0",
   "metadata": {},
   "outputs": [],
   "source": [
    "import test2"
   ]
  },
  {
   "cell_type": "code",
   "execution_count": 4,
   "id": "82d63034",
   "metadata": {},
   "outputs": [
    {
     "name": "stdout",
     "output_type": "stream",
     "text": [
      " Volume in drive C has no label.\n",
      " Volume Serial Number is D06C-111A\n",
      "\n",
      " Directory of C:\\Users\\JP Yadav\n",
      "\n"
     ]
    },
    {
     "name": "stderr",
     "output_type": "stream",
     "text": [
      "File Not Found\n"
     ]
    }
   ],
   "source": [
    "ls()"
   ]
  },
  {
   "cell_type": "code",
   "execution_count": 5,
   "id": "c34e31cc",
   "metadata": {},
   "outputs": [
    {
     "name": "stdout",
     "output_type": "stream",
     "text": [
      " Volume in drive C has no label.\n",
      " Volume Serial Number is D06C-111A\n",
      "\n",
      " Directory of C:\\Users\\JP Yadav\n",
      "\n",
      "23-01-2022  09:53    <DIR>          .\n",
      "23-01-2022  09:53    <DIR>          ..\n",
      "23-01-2022  09:53    <DIR>          .conda\n",
      "22-01-2022  20:41                25 .condarc\n",
      "22-01-2022  20:41    <DIR>          .continuum\n",
      "23-01-2022  09:41    <DIR>          .ipynb_checkpoints\n",
      "10-10-2021  19:54    <DIR>          .ipython\n",
      "19-12-2021  21:58    <DIR>          .jupyter\n",
      "10-10-2021  23:21    <DIR>          .vscode\n",
      "23-01-2022  09:52    <DIR>          __pycache__\n",
      "08-10-2021  11:36    <DIR>          3D Objects\n",
      "08-10-2021  11:36    <DIR>          Contacts\n",
      "23-01-2022  09:50    <DIR>          Desktop\n",
      "21-12-2021  20:05    <DIR>          Documents\n",
      "22-01-2022  20:49    <DIR>          Downloads\n",
      "08-10-2021  11:36    <DIR>          Favorites\n",
      "08-10-2021  14:27    <DIR>          Intel\n",
      "08-10-2021  11:36    <DIR>          Links\n",
      "08-10-2021  11:36    <DIR>          Music\n",
      "08-10-2021  12:30    <DIR>          OneDrive\n",
      "08-10-2021  11:38    <DIR>          Pictures\n",
      "22-01-2022  23:20    <DIR>          PycharmProjects\n",
      "08-10-2021  11:36    <DIR>          Saved Games\n",
      "08-10-2021  11:38    <DIR>          Searches\n",
      "23-01-2022  09:51                31 test2.py\n",
      "10-10-2021  19:55             1,708 Untitled.ipynb\n",
      "19-12-2021  22:12             1,548 Untitled1.ipynb\n",
      "22-01-2022  23:14                16 Untitled-1.py\n",
      "09-01-2022  06:49             1,016 Untitled10.ipynb\n",
      "22-01-2022  20:43               854 Untitled11.ipynb\n",
      "23-01-2022  09:53             1,241 Untitled12.ipynb\n",
      "19-12-2021  22:32             4,072 Untitled2.ipynb\n",
      "20-12-2021  19:02                72 Untitled3.ipynb\n",
      "20-12-2021  21:54            20,017 Untitled4.ipynb\n",
      "21-12-2021  21:20             6,891 Untitled5.ipynb\n",
      "23-12-2021  21:34            15,013 Untitled6.ipynb\n",
      "26-12-2021  14:37             5,892 Untitled7.ipynb\n",
      "26-12-2021  22:23             9,023 Untitled8.ipynb\n",
      "06-01-2022  16:42             4,952 Untitled9.ipynb\n",
      "19-01-2022  17:10    <DIR>          Videos\n",
      "              16 File(s)         72,371 bytes\n",
      "              24 Dir(s)  136,016,146,432 bytes free\n"
     ]
    }
   ],
   "source": [
    "ls"
   ]
  },
  {
   "cell_type": "code",
   "execution_count": 6,
   "id": "61d18407",
   "metadata": {},
   "outputs": [],
   "source": [
    "import test2"
   ]
  },
  {
   "cell_type": "code",
   "execution_count": 7,
   "id": "0a18adbe",
   "metadata": {},
   "outputs": [
    {
     "data": {
      "text/plain": [
       "9"
      ]
     },
     "execution_count": 7,
     "metadata": {},
     "output_type": "execute_result"
    }
   ],
   "source": [
    "test2.test(4,5)"
   ]
  },
  {
   "cell_type": "code",
   "execution_count": 25,
   "id": "c57873ce",
   "metadata": {},
   "outputs": [],
   "source": [
    "class car:\n",
    "    def __init__ (self , body_type , engine , fule_type):\n",
    "        self.body_type1 = body_type\n",
    "        self.engine = engine\n",
    "        self.fule_type =\"ghhj\"\n",
    "    \n",
    "    def test(self):\n",
    "        print(\"this is my first method\")\n",
    "        "
   ]
  },
  {
   "cell_type": "code",
   "execution_count": null,
   "id": "429648dc",
   "metadata": {},
   "outputs": [],
   "source": []
  },
  {
   "cell_type": "code",
   "execution_count": null,
   "id": "7399e8eb",
   "metadata": {},
   "outputs": [],
   "source": []
  },
  {
   "cell_type": "code",
   "execution_count": 9,
   "id": "99a59686",
   "metadata": {},
   "outputs": [],
   "source": [
    "s =\"jp\""
   ]
  },
  {
   "cell_type": "code",
   "execution_count": 12,
   "id": "e40dcee4",
   "metadata": {},
   "outputs": [
    {
     "name": "stdout",
     "output_type": "stream",
     "text": [
      "<class 'str'>\n"
     ]
    }
   ],
   "source": [
    "print(type(s))"
   ]
  },
  {
   "cell_type": "code",
   "execution_count": 13,
   "id": "92cc06ad",
   "metadata": {},
   "outputs": [
    {
     "ename": "TypeError",
     "evalue": "__init__() missing 3 required positional arguments: 'body_type', 'engine', and 'fule_type'",
     "output_type": "error",
     "traceback": [
      "\u001b[1;31m---------------------------------------------------------------------------\u001b[0m",
      "\u001b[1;31mTypeError\u001b[0m                                 Traceback (most recent call last)",
      "\u001b[1;32mC:\\Users\\JPYADA~1\\AppData\\Local\\Temp/ipykernel_16020/3168540906.py\u001b[0m in \u001b[0;36m<module>\u001b[1;34m\u001b[0m\n\u001b[1;32m----> 1\u001b[1;33m \u001b[0mforue\u001b[0m \u001b[1;33m=\u001b[0m \u001b[0mcar\u001b[0m\u001b[1;33m(\u001b[0m\u001b[1;33m)\u001b[0m\u001b[1;33m\u001b[0m\u001b[1;33m\u001b[0m\u001b[0m\n\u001b[0m",
      "\u001b[1;31mTypeError\u001b[0m: __init__() missing 3 required positional arguments: 'body_type', 'engine', and 'fule_type'"
     ]
    }
   ],
   "source": [
    "forue = car()"
   ]
  },
  {
   "cell_type": "code",
   "execution_count": 14,
   "id": "c12e611b",
   "metadata": {},
   "outputs": [
    {
     "ename": "NameError",
     "evalue": "name 'n' is not defined",
     "output_type": "error",
     "traceback": [
      "\u001b[1;31m---------------------------------------------------------------------------\u001b[0m",
      "\u001b[1;31mNameError\u001b[0m                                 Traceback (most recent call last)",
      "\u001b[1;32mC:\\Users\\JPYADA~1\\AppData\\Local\\Temp/ipykernel_16020/1249512285.py\u001b[0m in \u001b[0;36m<module>\u001b[1;34m\u001b[0m\n\u001b[1;32m----> 1\u001b[1;33m \u001b[0mn\u001b[0m\u001b[1;33m\u001b[0m\u001b[1;33m\u001b[0m\u001b[0m\n\u001b[0m",
      "\u001b[1;31mNameError\u001b[0m: name 'n' is not defined"
     ]
    }
   ],
   "source": [
    "n"
   ]
  },
  {
   "cell_type": "code",
   "execution_count": 15,
   "id": "77878bba",
   "metadata": {},
   "outputs": [],
   "source": [
    "n =67"
   ]
  },
  {
   "cell_type": "code",
   "execution_count": 16,
   "id": "a87b1d10",
   "metadata": {},
   "outputs": [],
   "source": [
    "m =\"di\""
   ]
  },
  {
   "cell_type": "code",
   "execution_count": 26,
   "id": "bc0e750c",
   "metadata": {},
   "outputs": [],
   "source": [
    "forue = car(\"suv\",\"bs6\" ,\"petrol\" )"
   ]
  },
  {
   "cell_type": "code",
   "execution_count": 27,
   "id": "09400a56",
   "metadata": {},
   "outputs": [],
   "source": [
    "nexon = car(\"suv\", \"abc\", \"petrol\")"
   ]
  },
  {
   "cell_type": "code",
   "execution_count": 29,
   "id": "9485c1a0",
   "metadata": {},
   "outputs": [
    {
     "data": {
      "text/plain": [
       "'suv'"
      ]
     },
     "execution_count": 29,
     "metadata": {},
     "output_type": "execute_result"
    }
   ],
   "source": [
    "forue.body_type1"
   ]
  },
  {
   "cell_type": "code",
   "execution_count": 20,
   "id": "fb5ca510",
   "metadata": {},
   "outputs": [
    {
     "data": {
      "text/plain": [
       "'abc'"
      ]
     },
     "execution_count": 20,
     "metadata": {},
     "output_type": "execute_result"
    }
   ],
   "source": [
    "nexon.engine"
   ]
  },
  {
   "cell_type": "code",
   "execution_count": 30,
   "id": "1167642f",
   "metadata": {},
   "outputs": [],
   "source": [
    "class car:\n",
    "    def __init__ (jp , body_type , engine , fule_type):\n",
    "        jp.body_type1 = body_type\n",
    "        jp.engine = engine\n",
    "        jp.fule_type =\"ghhj\"\n",
    "    \n",
    "    def test(jp):\n",
    "        print(\"this is my first method\")"
   ]
  },
  {
   "cell_type": "code",
   "execution_count": 31,
   "id": "3282cd58",
   "metadata": {},
   "outputs": [],
   "source": [
    "maruti = car(\"jhfjk\",\"jkhdjk\",\"hfdhf\")"
   ]
  },
  {
   "cell_type": "code",
   "execution_count": 32,
   "id": "272c59c5",
   "metadata": {},
   "outputs": [
    {
     "data": {
      "text/plain": [
       "'jhfjk'"
      ]
     },
     "execution_count": 32,
     "metadata": {},
     "output_type": "execute_result"
    }
   ],
   "source": [
    "maruti.body_type1"
   ]
  },
  {
   "cell_type": "code",
   "execution_count": 36,
   "id": "b67c8908",
   "metadata": {},
   "outputs": [],
   "source": [
    "class car:\n",
    "    \n",
    "    def test(jp,b,c):\n",
    "        print(\"thisis my program\")"
   ]
  },
  {
   "cell_type": "code",
   "execution_count": 37,
   "id": "4730f806",
   "metadata": {},
   "outputs": [],
   "source": [
    "x =car()"
   ]
  },
  {
   "cell_type": "code",
   "execution_count": 39,
   "id": "ac618376",
   "metadata": {},
   "outputs": [
    {
     "name": "stdout",
     "output_type": "stream",
     "text": [
      "thisis my program\n"
     ]
    }
   ],
   "source": [
    "x.test(6,\"ghcfhgj\")"
   ]
  },
  {
   "cell_type": "code",
   "execution_count": 46,
   "id": "75695ccf",
   "metadata": {},
   "outputs": [],
   "source": [
    "class list_parcer:\n",
    "    def parcer(self, a):\n",
    "        if type(a) == list:\n",
    "            for i in a:\n",
    "                print(i)\n",
    "    def reverse_list(self,z):\n",
    "        if type(z) == list:\n",
    "            return z[::-1]"
   ]
  },
  {
   "cell_type": "code",
   "execution_count": 47,
   "id": "b55277cf",
   "metadata": {},
   "outputs": [
    {
     "name": "stdout",
     "output_type": "stream",
     "text": [
      "2\n",
      "3\n",
      "45\n"
     ]
    }
   ],
   "source": [
    "c = list_parcer()\n",
    "c.parcer([2,3,45])"
   ]
  },
  {
   "cell_type": "code",
   "execution_count": 49,
   "id": "a09e2723",
   "metadata": {},
   "outputs": [
    {
     "data": {
      "text/plain": [
       "[7, 5, 4, 3]"
      ]
     },
     "execution_count": 49,
     "metadata": {},
     "output_type": "execute_result"
    }
   ],
   "source": [
    "l = list_parcer()\n",
    "l.reverse_list([3,4,5,7])"
   ]
  },
  {
   "cell_type": "code",
   "execution_count": 54,
   "id": "3465f5bb",
   "metadata": {},
   "outputs": [
    {
     "ename": "SyntaxError",
     "evalue": "invalid syntax (Temp/ipykernel_16020/2539490967.py, line 1)",
     "output_type": "error",
     "traceback": [
      "\u001b[1;36m  File \u001b[1;32m\"C:\\Users\\JPYADA~1\\AppData\\Local\\Temp/ipykernel_16020/2539490967.py\"\u001b[1;36m, line \u001b[1;32m1\u001b[0m\n\u001b[1;33m    create a class for dictonary parsing\u001b[0m\n\u001b[1;37m           ^\u001b[0m\n\u001b[1;31mSyntaxError\u001b[0m\u001b[1;31m:\u001b[0m invalid syntax\n"
     ]
    }
   ],
   "source": [
    "create a class for dictonary parsing\n",
    "\n",
    "1. write a function to give all keys\n",
    "2. write a function to give all the values\n",
    "3. write a function to throw an exception in case of input is not dictonary\n",
    "4. write a function to take user input and then parse a key and value out of dictoary\n",
    "5. write a function to insert new key value pair into dictonary"
   ]
  },
  {
   "cell_type": "code",
   "execution_count": 55,
   "id": "900203ce",
   "metadata": {},
   "outputs": [
    {
     "ename": "SyntaxError",
     "evalue": "invalid syntax (Temp/ipykernel_16020/1340409007.py, line 8)",
     "output_type": "error",
     "traceback": [
      "\u001b[1;36m  File \u001b[1;32m\"C:\\Users\\JPYADA~1\\AppData\\Local\\Temp/ipykernel_16020/1340409007.py\"\u001b[1;36m, line \u001b[1;32m8\u001b[0m\n\u001b[1;33m    def getvalues(self)\u001b[0m\n\u001b[1;37m                       ^\u001b[0m\n\u001b[1;31mSyntaxError\u001b[0m\u001b[1;31m:\u001b[0m invalid syntax\n"
     ]
    }
   ],
   "source": [
    "class dict_parsing:\n",
    "    def __int__(self,a):\n",
    "        self.a = a\n",
    "        \n",
    "    def getkeys(self):\n",
    "        if self.notdict():\n",
    "            return list(self.a.values())\n",
    "    def getvalues(self)\n",
    "    "
   ]
  },
  {
   "cell_type": "code",
   "execution_count": 56,
   "id": "462ea5af",
   "metadata": {},
   "outputs": [],
   "source": [
    "d ={\"k\":\"jp\",\"k1\":\"yadav\"}"
   ]
  },
  {
   "cell_type": "code",
   "execution_count": 57,
   "id": "d1c3950f",
   "metadata": {},
   "outputs": [
    {
     "data": {
      "text/plain": [
       "dict_keys(['k', 'k1'])"
      ]
     },
     "execution_count": 57,
     "metadata": {},
     "output_type": "execute_result"
    }
   ],
   "source": [
    "d.keys()"
   ]
  },
  {
   "cell_type": "code",
   "execution_count": 58,
   "id": "3919b5f2",
   "metadata": {},
   "outputs": [
    {
     "data": {
      "text/plain": [
       "<_io.TextIOWrapper name='mydict.py' mode='w' encoding='cp1252'>"
      ]
     },
     "execution_count": 58,
     "metadata": {},
     "output_type": "execute_result"
    }
   ],
   "source": [
    "open(\"mydict.py\",\"w\")"
   ]
  },
  {
   "cell_type": "code",
   "execution_count": 59,
   "id": "cda97b04",
   "metadata": {},
   "outputs": [
    {
     "name": "stdout",
     "output_type": "stream",
     "text": [
      " Volume in drive C has no label.\n",
      " Volume Serial Number is D06C-111A\n",
      "\n",
      " Directory of C:\\Users\\JP Yadav\n",
      "\n",
      "23-01-2022  12:20    <DIR>          .\n",
      "23-01-2022  12:20    <DIR>          ..\n",
      "23-01-2022  12:20    <DIR>          .conda\n",
      "22-01-2022  20:41                25 .condarc\n",
      "22-01-2022  20:41    <DIR>          .continuum\n",
      "23-01-2022  11:24    <DIR>          .ipynb_checkpoints\n",
      "10-10-2021  19:54    <DIR>          .ipython\n",
      "19-12-2021  21:58    <DIR>          .jupyter\n",
      "10-10-2021  23:21    <DIR>          .vscode\n",
      "23-01-2022  09:52    <DIR>          __pycache__\n",
      "23-01-2022  12:19            14,661 23jan2021_practice.ipynb\n",
      "08-10-2021  11:36    <DIR>          3D Objects\n",
      "08-10-2021  11:36    <DIR>          Contacts\n",
      "23-01-2022  09:57    <DIR>          Desktop\n",
      "21-12-2021  20:05    <DIR>          Documents\n",
      "22-01-2022  20:49    <DIR>          Downloads\n",
      "08-10-2021  11:36    <DIR>          Favorites\n",
      "08-10-2021  14:27    <DIR>          Intel\n",
      "08-10-2021  11:36    <DIR>          Links\n",
      "08-10-2021  11:36    <DIR>          Music\n",
      "23-01-2022  12:20                 0 mydict.py\n",
      "08-10-2021  12:30    <DIR>          OneDrive\n",
      "08-10-2021  11:38    <DIR>          Pictures\n",
      "23-01-2022  10:04    <DIR>          PycharmProjects\n",
      "08-10-2021  11:36    <DIR>          Saved Games\n",
      "08-10-2021  11:38    <DIR>          Searches\n",
      "23-01-2022  09:51                31 test2.py\n",
      "10-10-2021  19:55             1,708 Untitled.ipynb\n",
      "19-12-2021  22:12             1,548 Untitled1.ipynb\n",
      "22-01-2022  23:14                16 Untitled-1.py\n",
      "09-01-2022  06:49             1,016 Untitled10.ipynb\n",
      "22-01-2022  20:43               854 Untitled11.ipynb\n",
      "19-12-2021  22:32             4,072 Untitled2.ipynb\n",
      "20-12-2021  19:02                72 Untitled3.ipynb\n",
      "20-12-2021  21:54            20,017 Untitled4.ipynb\n",
      "21-12-2021  21:20             6,891 Untitled5.ipynb\n",
      "23-12-2021  21:34            15,013 Untitled6.ipynb\n",
      "26-12-2021  14:37             5,892 Untitled7.ipynb\n",
      "26-12-2021  22:23             9,023 Untitled8.ipynb\n",
      "06-01-2022  16:42             4,952 Untitled9.ipynb\n",
      "19-01-2022  17:10    <DIR>          Videos\n",
      "              17 File(s)         85,791 bytes\n",
      "              24 Dir(s)  135,961,423,872 bytes free\n"
     ]
    }
   ],
   "source": [
    "ls\n"
   ]
  },
  {
   "cell_type": "code",
   "execution_count": 60,
   "id": "eb659342",
   "metadata": {},
   "outputs": [],
   "source": [
    "import mydict"
   ]
  },
  {
   "cell_type": "code",
   "execution_count": null,
   "id": "6289575c",
   "metadata": {},
   "outputs": [],
   "source": []
  }
 ],
 "metadata": {
  "kernelspec": {
   "display_name": "Python 3 (ipykernel)",
   "language": "python",
   "name": "python3"
  },
  "language_info": {
   "codemirror_mode": {
    "name": "ipython",
    "version": 3
   },
   "file_extension": ".py",
   "mimetype": "text/x-python",
   "name": "python",
   "nbconvert_exporter": "python",
   "pygments_lexer": "ipython3",
   "version": "3.9.7"
  }
 },
 "nbformat": 4,
 "nbformat_minor": 5
}
